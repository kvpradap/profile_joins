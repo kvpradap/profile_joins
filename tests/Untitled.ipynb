{
 "cells": [
  {
   "cell_type": "code",
   "execution_count": 1,
   "metadata": {
    "collapsed": true
   },
   "outputs": [],
   "source": [
    "import sys\n",
    "sys.path.append('/scratch/pradap/python-work/dmagellan/dmagellan')\n",
    "sys.path.append('/scratch/pradap/python-work/profile_joins')"
   ]
  },
  {
   "cell_type": "code",
   "execution_count": 1,
   "metadata": {
    "collapsed": true
   },
   "outputs": [],
   "source": [
    "import pandas as pd\n",
    "import os\n",
    "import dask"
   ]
  },
  {
   "cell_type": "code",
   "execution_count": 2,
   "metadata": {
    "collapsed": true
   },
   "outputs": [],
   "source": [
    "from dmagellan.blocker.attrequivalence.attr_equiv_blocker import AttrEquivalenceBlocker\n",
    "from dmagellan.blocker.overlap.overlapblocker import OverlapBlocker"
   ]
  },
  {
   "cell_type": "code",
   "execution_count": 3,
   "metadata": {
    "collapsed": false
   },
   "outputs": [],
   "source": [
    "datapath = \"../datasets/\"\n",
    "# A = pd.read_csv(os.path.join(datapath, 'person_table_A.csv'), low_memory=False)\n",
    "# B = pd.read_csv(os.path.join(datapath, 'person_table_B.csv'), low_memory=False)\n",
    "\n",
    "A = pd.read_csv(os.path.join(datapath, 'tracks.csv'), low_memory=False)\n",
    "B = pd.read_csv(os.path.join(datapath, 'songs.csv'), low_memory=False)\n",
    "A = A.sample(10000, random_state=0)\n",
    "B = B.sample(10000, random_state=0)"
   ]
  },
  {
   "cell_type": "code",
   "execution_count": 4,
   "metadata": {
    "collapsed": false
   },
   "outputs": [
    {
     "name": "stdout",
     "output_type": "stream",
     "text": [
      "Reading the files done\n"
     ]
    }
   ],
   "source": [
    "print('Reading the files done')\n",
    "ab = AttrEquivalenceBlocker()\n",
    "C = ab.block_tables(A, B, 'id', 'id', 'year', 'year', nltable_chunks=2,\n",
    "                    nrtable_chunks=2, \n",
    "                    compute=True, scheduler=dask.get, show_progress=False\n",
    "                    )"
   ]
  },
  {
   "cell_type": "code",
   "execution_count": 7,
   "metadata": {
    "collapsed": false
   },
   "outputs": [
    {
     "data": {
      "text/plain": [
       "1303310"
      ]
     },
     "execution_count": 7,
     "metadata": {},
     "output_type": "execute_result"
    }
   ],
   "source": [
    "len(C)"
   ]
  },
  {
   "cell_type": "code",
   "execution_count": 15,
   "metadata": {
    "collapsed": true
   },
   "outputs": [],
   "source": [
    "from dask import multiprocessing"
   ]
  },
  {
   "cell_type": "code",
   "execution_count": 21,
   "metadata": {
    "collapsed": false
   },
   "outputs": [
    {
     "name": "stdout",
     "output_type": "stream",
     "text": [
      "[########################################] | 100% Completed | 18.0s\n",
      "18.0692660809\n"
     ]
    }
   ],
   "source": [
    "ob = OverlapBlocker()\n",
    "import time\n",
    "t1 = time.time()\n",
    "D = ob.block_candset(C, A, B, \"l_id\", \"r_id\", \"id\", \"id\", 'title', 'title', compute=True, rem_stop_words=True,\n",
    "                    nchunks=1, q_val=2, overlap_size=1, scheduler= multiprocessing.get,\n",
    "                    )\n",
    "print(time.time()-t1)"
   ]
  },
  {
   "cell_type": "code",
   "execution_count": 22,
   "metadata": {
    "collapsed": false
   },
   "outputs": [
    {
     "data": {
      "text/plain": [
       "4646"
      ]
     },
     "execution_count": 22,
     "metadata": {},
     "output_type": "execute_result"
    }
   ],
   "source": [
    "len(D)"
   ]
  }
 ],
 "metadata": {
  "kernelspec": {
   "display_name": "Python 2",
   "language": "python",
   "name": "python2"
  },
  "language_info": {
   "codemirror_mode": {
    "name": "ipython",
    "version": 2
   },
   "file_extension": ".py",
   "mimetype": "text/x-python",
   "name": "python",
   "nbconvert_exporter": "python",
   "pygments_lexer": "ipython2",
   "version": "2.7.13"
  }
 },
 "nbformat": 4,
 "nbformat_minor": 2
}
